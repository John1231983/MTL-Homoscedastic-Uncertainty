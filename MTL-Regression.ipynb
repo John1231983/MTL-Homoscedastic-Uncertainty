{
 "cells": [
  {
   "cell_type": "code",
   "execution_count": 1,
   "metadata": {
    "collapsed": true
   },
   "outputs": [],
   "source": [
    "import sys\n",
    "import os\n",
    "import glob\n",
    "import numpy as np\n",
    "import tensorflow as tf\n",
    "np.random.seed(0)\n",
    "tf.set_random_seed(0)"
   ]
  },
  {
   "cell_type": "code",
   "execution_count": 2,
   "metadata": {
    "collapsed": true
   },
   "outputs": [],
   "source": [
    "n_hidden = 512\n",
    "N = 2048\n",
    "batch_size = 64\n",
    "epochs = 2000"
   ]
  },
  {
   "cell_type": "code",
   "execution_count": 3,
   "metadata": {
    "collapsed": true
   },
   "outputs": [],
   "source": [
    "target_names = ['1', '2']\n",
    "feature_names = ['x']"
   ]
  },
  {
   "cell_type": "markdown",
   "metadata": {},
   "source": [
    "# Model"
   ]
  },
  {
   "cell_type": "code",
   "execution_count": 4,
   "metadata": {
    "collapsed": true
   },
   "outputs": [],
   "source": [
    "def create_hidden_layer(n_hidden, prev_layer, name, weights_initializer=tf.contrib.layers.xavier_initializer(),\n",
    "                        biases_initializer=tf.zeros_initializer(), activation='relu'):\n",
    "    W = tf.get_variable('W' + name, shape=[prev_layer.shape.as_list()[1], n_hidden], initializer=weights_initializer)\n",
    "    b = tf.get_variable('b' + name, shape=[n_hidden], initializer=biases_initializer)\n",
    "    if activation == 'relu':\n",
    "        A = tf.nn.relu_layer(prev_layer, W, b, name='hidden_layer' + name)\n",
    "    return W, b, A"
   ]
  },
  {
   "cell_type": "code",
   "execution_count": 5,
   "metadata": {
    "collapsed": true
   },
   "outputs": [],
   "source": [
    "tf.reset_default_graph()\n",
    "sess = tf.InteractiveSession()"
   ]
  },
  {
   "cell_type": "code",
   "execution_count": 6,
   "metadata": {
    "collapsed": true
   },
   "outputs": [],
   "source": [
    "with tf.variable_scope('x_placeholders'):\n",
    "    x = tf.placeholder('float', shape=[None, len(feature_names)], name='input')\n",
    "    \n",
    "with tf.variable_scope('y_placeholders'):\n",
    "    Y_true = {}\n",
    "    for name in target_names:\n",
    "        Y_true[name] = tf.placeholder('float', shape=[None, 1], name=name)"
   ]
  },
  {
   "cell_type": "code",
   "execution_count": 7,
   "metadata": {
    "collapsed": true
   },
   "outputs": [],
   "source": [
    "with tf.variable_scope('hidden'):\n",
    "    W1, b1, A = create_hidden_layer(n_hidden, x, '1')\n",
    "#     W2, b2, A = create_hidden_layer(n_hidden_2, A, '2')"
   ]
  },
  {
   "cell_type": "code",
   "execution_count": 8,
   "metadata": {},
   "outputs": [],
   "source": [
    "with tf.variable_scope('output_weights'):\n",
    "    output_weights = {}\n",
    "    output_biases = {}\n",
    "    for name in target_names:\n",
    "        output_weights[name] = tf.get_variable(\n",
    "            \"W_\" + name, shape=[A.shape.as_list()[1], 1], initializer=tf.contrib.layers.xavier_initializer())\n",
    "        output_biases[name] = tf.get_variable(\n",
    "            'b_' + name, shape=[], initializer=tf.zeros_initializer())"
   ]
  },
  {
   "cell_type": "code",
   "execution_count": 9,
   "metadata": {
    "collapsed": true
   },
   "outputs": [],
   "source": [
    "with tf.variable_scope('outputs'):\n",
    "    Y_pred = {}\n",
    "    for name in target_names:\n",
    "        Y_pred[name] = tf.matmul(A, output_weights[name]) + output_biases[name]"
   ]
  },
  {
   "cell_type": "markdown",
   "metadata": {},
   "source": [
    "For binary classification\n",
    "\n",
    "    with tf.variable_scope('uncertainties'):\n",
    "    uncertainties = {}\n",
    "    for name in target_names:\n",
    "        uncertainties[name] = tf.get_variable('uncertainties_' + name, initializer=tf.constant(1.0))\n",
    "\n",
    "    with tf.variable_scope('loss'):\n",
    "    loss = 0\n",
    "    for key in Y_true:\n",
    "        uncertainty = uncertainties[key]\n",
    "        loss += tf.reduce_mean(\n",
    "            tf.nn.sigmoid_cross_entropy_with_logits(labels=Y_true[key], logits=Y_pred[key]/uncertainty))\n",
    "        \n",
    "For multi-class classification, replace the binary loss with softmax loss"
   ]
  },
  {
   "cell_type": "code",
   "execution_count": 10,
   "metadata": {
    "collapsed": true
   },
   "outputs": [],
   "source": [
    "# For Regression\n",
    "\n",
    "with tf.variable_scope('log_vars'):\n",
    "    log_vars = {}\n",
    "    for name in target_names:\n",
    "        log_vars[name] = tf.get_variable(name, shape=[], initializer=tf.zeros_initializer())\n",
    "        \n",
    "with tf.variable_scope('loss'):\n",
    "    loss = 0\n",
    "    for key in Y_true:\n",
    "        log_var = log_vars[key]\n",
    "        loss += tf.reduce_sum(tf.exp(-log_var) * tf.square(Y_pred[key] - Y_true[key]) + log_var, -1)\n",
    "    loss = tf.reduce_mean(loss)"
   ]
  },
  {
   "cell_type": "markdown",
   "metadata": {},
   "source": [
    "For binary classification\n",
    "\n",
    "    with tf.variable_scope('validation'):\n",
    "        Xval = tf.placeholder('float', shape=[None, len(feature_names)], name='Xval')\n",
    "        Yval = tf.placeholder('float', shape=[None, 1], name='Yval')\n",
    "        Aval = tf.nn.relu_layer(Xval, W1, b1, name='Val_layer1')\n",
    "        Aval = tf.nn.relu_layer(Aval, W2, b2, name='Val_layer2')\n",
    "\n",
    "        PredVal = tf.sigmoid(\n",
    "            tf.matmul(Aval, output_weights[\"conversion_label\"]) + output_biases[\"conversion_label\"])  \n",
    "        ScoreVal, update_ops = tf.metrics.auc(Yval, PredVal)"
   ]
  },
  {
   "cell_type": "code",
   "execution_count": 11,
   "metadata": {},
   "outputs": [],
   "source": [
    "with tf.variable_scope('optimizer'):\n",
    "    optimizer = tf.train.AdamOptimizer()\n",
    "    train_op = optimizer.minimize(loss)"
   ]
  },
  {
   "cell_type": "code",
   "execution_count": 12,
   "metadata": {
    "collapsed": true
   },
   "outputs": [],
   "source": [
    "init = tf.global_variables_initializer()\n",
    "# For AUC validation\n",
    "# local_init = tf.local_variables_initializer()"
   ]
  },
  {
   "cell_type": "markdown",
   "metadata": {},
   "source": [
    "# Evaluate on Synthetic Data"
   ]
  },
  {
   "cell_type": "code",
   "execution_count": 13,
   "metadata": {
    "collapsed": true
   },
   "outputs": [],
   "source": [
    "Q = 1\n",
    "D1 = 1  # first output\n",
    "D2 = 1  # second output"
   ]
  },
  {
   "cell_type": "code",
   "execution_count": 14,
   "metadata": {
    "collapsed": true
   },
   "outputs": [],
   "source": [
    "def gen_data(N):\n",
    "    X = np.random.randn(N, Q)\n",
    "    w1 = 2.\n",
    "    b1 = 8.\n",
    "    sigma1 = 1e1  # ground truth\n",
    "    Y1 = X.dot(w1) + b1 + sigma1 * np.random.randn(N, D1)\n",
    "    w2 = 3\n",
    "    b2 = 3.\n",
    "    sigma2 = 1e0  # ground truth\n",
    "    Y2 = X.dot(w2) + b2 + sigma2 * np.random.randn(N, D2)\n",
    "    return X, Y1, Y2"
   ]
  },
  {
   "cell_type": "code",
   "execution_count": 15,
   "metadata": {
    "scrolled": true
   },
   "outputs": [
    {
     "data": {
      "image/png": "[encoded data removed]",
      "text/plain": [
       "<matplotlib.figure.Figure at 0x7f6d6a2326d8>"
      ]
     },
     "metadata": {},
     "output_type": "display_data"
    }
   ],
   "source": [
    "import pylab\n",
    "%matplotlib inline\n",
    "\n",
    "X, Y1, Y2 = gen_data(N)\n",
    "pylab.figure(figsize=(7, 3))\n",
    "pylab.scatter(X[:, 0], Y1[:, 0])\n",
    "pylab.scatter(X[:, 0], Y2[:, 0])\n",
    "pylab.show()"
   ]
  },
  {
   "cell_type": "markdown",
   "metadata": {},
   "source": [
    "# Data Generator"
   ]
  },
  {
   "cell_type": "code",
   "execution_count": 16,
   "metadata": {
    "collapsed": true
   },
   "outputs": [],
   "source": [
    "def data_gen(X, Y, batch_size=128):\n",
    "    counter = 0\n",
    "    max_iter = int(X.shape[0] / batch_size)\n",
    "    items = Y.items()\n",
    "    batch_Y = {}\n",
    "    for i in range(max_iter):\n",
    "        batch_X = X[counter:counter+batch_size, :]\n",
    "        for key, val in items:\n",
    "            batch_Y[key] = val[counter:counter+batch_size, :]\n",
    "        yield batch_X, batch_Y\n",
    "        counter += batch_size\n",
    "    batch_X = X[counter:counter+batch_size, :]\n",
    "    for key, val in items:\n",
    "        batch_Y[key] = val[counter:counter+batch_size, :]\n",
    "    if batch_X.size != 0:\n",
    "        yield batch_X, batch_Y"
   ]
  },
  {
   "cell_type": "markdown",
   "metadata": {},
   "source": [
    "# Training"
   ]
  },
  {
   "cell_type": "code",
   "execution_count": 17,
   "metadata": {},
   "outputs": [
    {
     "name": "stdout",
     "output_type": "stream",
     "text": [
      "At epoch 0, Loss: 163.2723\n",
      "At epoch 100, Loss: 16.6841\n",
      "At epoch 200, Loss: 7.9149\n",
      "At epoch 300, Loss: 6.6120\n",
      "At epoch 400, Loss: 6.5557\n",
      "At epoch 500, Loss: 6.5548\n",
      "At epoch 600, Loss: 6.5541\n",
      "At epoch 700, Loss: 6.5535\n",
      "At epoch 800, Loss: 6.5530\n",
      "At epoch 900, Loss: 6.5526\n",
      "At epoch 1000, Loss: 6.5522\n",
      "At epoch 1100, Loss: 6.5518\n",
      "At epoch 1200, Loss: 6.5514\n",
      "At epoch 1300, Loss: 6.5510\n",
      "At epoch 1400, Loss: 6.5507\n",
      "At epoch 1500, Loss: 6.5503\n",
      "At epoch 1600, Loss: 6.5500\n",
      "At epoch 1700, Loss: 6.5497\n",
      "At epoch 1800, Loss: 6.5494\n",
      "At epoch 1900, Loss: 6.5491\n"
     ]
    }
   ],
   "source": [
    "losses = []\n",
    "\n",
    "init.run()\n",
    "# local_init.run()\n",
    "for i in range(epochs):\n",
    "    tmp = 0\n",
    "    step = 0\n",
    "    gen = data_gen(X, {\"1\": Y1, \"2\": Y2}, batch_size=batch_size)\n",
    "    for batch_X, batch_Y in gen:\n",
    "        feed_dict = {x: batch_X}\n",
    "        for key, val in batch_Y.items():\n",
    "            feed_dict[Y_true[key]] = val\n",
    "        _, l = sess.run([train_op, loss], feed_dict=feed_dict)\n",
    "        tmp += l\n",
    "        step += 1\n",
    "    losses.append(tmp/step)\n",
    "#     valscore, posnegs = sess.run([ScoreVal, update_ops], feed_dict={Xval: Xtest, Yval: ytest})\n",
    "#     print(\"At epoch %d, Loss: %.4f, validation AUROC: %.4f\" % (i, tmp/step, valscore))\n",
    "    if i % 100 == 0:\n",
    "        print(\"At epoch %d, Loss: %.4f\" % (i, tmp/step))"
   ]
  },
  {
   "cell_type": "code",
   "execution_count": 18,
   "metadata": {},
   "outputs": [
    {
     "data": {
      "text/plain": [
       "(9.8657264141178498, 0.98553093146250581)"
      ]
     },
     "execution_count": 18,
     "metadata": {},
     "output_type": "execute_result"
    }
   ],
   "source": [
    "# Found standard deviations (ground truth is 10 and 1):\n",
    "np.exp(log_vars['1'].eval())**0.5, np.exp(log_vars['2'].eval())**0.5"
   ]
  }
 ],
 "metadata": {
  "kernelspec": {
   "display_name": "Python 3",
   "language": "python",
   "name": "python3"
  },
  "language_info": {
   "codemirror_mode": {
    "name": "ipython",
    "version": 3
   },
   "file_extension": ".py",
   "mimetype": "text/x-python",
   "name": "python",
   "nbconvert_exporter": "python",
   "pygments_lexer": "ipython3",
   "version": "3.5.2"
  }
 },
 "nbformat": 4,
 "nbformat_minor": 2
}
